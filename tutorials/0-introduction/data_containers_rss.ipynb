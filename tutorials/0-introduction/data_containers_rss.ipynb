{
 "cells": [
  {
   "cell_type": "markdown",
   "metadata": {},
   "source": [
    "# PyKOALA Raw Stacked Spectra (RSS) "
   ]
  },
  {
   "cell_type": "markdown",
   "metadata": {},
   "source": [
    "## Table of contents:\n",
    "\n",
    "1. [Importing class](#importing-class)\n",
    "2. [Koala RSS](#koala-rss)\n",
    "    - [`RSS` Attributes](#rss-attributes)\n",
    "        - [General information](#general-information)\n",
    "        - [History record](#history-record)\n",
    "    - [Data methods](#data-methods)\n",
    "        - [`is_corrected`](#is_corrected)\n",
    "        - [`get_centre_of_mass`](#get_centre_of_mass)\n",
    "        - [`update_coordinates`](#update_coordinates)\n",
    "        - [`get_integrated_fibres`](#get_integrated_fibres)\n",
    "        - [`to_fits`](#to_fits)\n",
    "        - [`from_fits`](#from_fits)\n",
    "    - [Plotting methods](#plotting-methods)\n",
    "        - [`plot_rss_image`](#plot_rss_image)\n",
    "        - [`plot_mask`](#plot_mask)\n",
    "        - [`plot_fibres`](#plot_fibres)\n"
   ]
  },
  {
   "cell_type": "markdown",
   "metadata": {},
   "source": [
    "## Importing class"
   ]
  },
  {
   "cell_type": "markdown",
   "metadata": {},
   "source": [
    "**Note: Make sure to run the following cells in order to ensure correct execution.**"
   ]
  },
  {
   "cell_type": "code",
   "execution_count": null,
   "metadata": {},
   "outputs": [],
   "source": [
    "from pykoala.data_container import RSS\n",
    "import os\n",
    "from pykoala.instruments.koala_ifu import koala_rss\n",
    "from astropy.io import fits\n",
    "import numpy as np\n",
    "import matplotlib.pyplot as plt"
   ]
  },
  {
   "cell_type": "markdown",
   "metadata": {},
   "source": [
    "## Koala RSS"
   ]
  },
  {
   "cell_type": "markdown",
   "metadata": {},
   "source": [
    "We can extract the RSS data using the function `koala_rss` in `koala_ifu`"
   ]
  },
  {
   "cell_type": "code",
   "execution_count": null,
   "metadata": {},
   "outputs": [],
   "source": [
    "data_path = '../data/koala/'\n",
    "single_fits_sample = '385R/27feb20028red.fits'\n",
    "file_sample = os.path.join(data_path, single_fits_sample)\n",
    "rss_sample = koala_rss(file_sample)"
   ]
  },
  {
   "cell_type": "markdown",
   "metadata": {},
   "source": [
    "### RSS attributes"
   ]
  },
  {
   "cell_type": "markdown",
   "metadata": {},
   "source": [
    "#### General information "
   ]
  },
  {
   "cell_type": "markdown",
   "metadata": {},
   "source": [
    "Information about the RRS can be obtained from the `info` attribute:"
   ]
  },
  {
   "cell_type": "code",
   "execution_count": null,
   "metadata": {},
   "outputs": [],
   "source": [
    "rss_sample.info"
   ]
  },
  {
   "cell_type": "markdown",
   "metadata": {},
   "source": [
    "The information is given as a dictionary:"
   ]
  },
  {
   "cell_type": "code",
   "execution_count": null,
   "metadata": {},
   "outputs": [],
   "source": [
    "rss_sample.info.keys()"
   ]
  },
  {
   "cell_type": "markdown",
   "metadata": {},
   "source": [
    "Intensity values can be shown with: "
   ]
  },
  {
   "cell_type": "code",
   "execution_count": null,
   "metadata": {},
   "outputs": [],
   "source": [
    "rss_sample.intensity"
   ]
  },
  {
   "cell_type": "markdown",
   "metadata": {},
   "source": [
    "Intensity is saved as a `astropy` quantity, so we can extract its unit as an attribute:"
   ]
  },
  {
   "cell_type": "code",
   "execution_count": null,
   "metadata": {},
   "outputs": [],
   "source": [
    "units_intensity = rss_sample.intensity.unit\n",
    "print(f'Unit of the intensity data is: {units_intensity}')"
   ]
  },
  {
   "cell_type": "markdown",
   "metadata": {},
   "source": [
    "Similarly, with the variance of the RSS:"
   ]
  },
  {
   "cell_type": "code",
   "execution_count": null,
   "metadata": {},
   "outputs": [],
   "source": [
    "units_variance = rss_sample.variance.unit\n",
    "\n",
    "print(f'Variance: {rss_sample.variance}')\n",
    "print('\\n================================\\n')\n",
    "print(f'Unit of the intensity data is: {units_variance}')"
   ]
  },
  {
   "cell_type": "markdown",
   "metadata": {},
   "source": [
    "#### History record"
   ]
  },
  {
   "cell_type": "markdown",
   "metadata": {},
   "source": [
    "RSS metada is stored as a `DataContainerHistory` object"
   ]
  },
  {
   "cell_type": "code",
   "execution_count": null,
   "metadata": {},
   "outputs": [],
   "source": [
    "rss_sample.history.show()"
   ]
  },
  {
   "cell_type": "markdown",
   "metadata": {},
   "source": [
    "#### RSS fibres"
   ]
  },
  {
   "cell_type": "markdown",
   "metadata": {},
   "source": [
    "Information about the fibres can be obtained from here:"
   ]
  },
  {
   "cell_type": "code",
   "execution_count": null,
   "metadata": {},
   "outputs": [],
   "source": [
    "rss_sample.fibre_diameter"
   ]
  },
  {
   "cell_type": "markdown",
   "metadata": {},
   "source": [
    "With `science_fibres` we can find the indexes of the fibres with non-bad pixels:"
   ]
  },
  {
   "cell_type": "code",
   "execution_count": null,
   "metadata": {},
   "outputs": [],
   "source": [
    "number_of_non_bad_fibres = len(rss_sample.science_fibres)\n",
    "print(f'Indexes of non-bad fibers: {rss_sample.science_fibres}')\n",
    "print('\\n================================\\n')\n",
    "print(f'Number of non-bad fibers: {number_of_non_bad_fibres}')"
   ]
  },
  {
   "cell_type": "markdown",
   "metadata": {},
   "source": [
    "### Data methods"
   ]
  },
  {
   "cell_type": "markdown",
   "metadata": {},
   "source": [
    "#### `is_corrected`"
   ]
  },
  {
   "cell_type": "markdown",
   "metadata": {},
   "source": [
    "We can check if a correction has been done in the RSS data with the `is_corrected` method: "
   ]
  },
  {
   "cell_type": "code",
   "execution_count": null,
   "metadata": {},
   "outputs": [],
   "source": [
    "rss_sample.is_corrected(correction='read')"
   ]
  },
  {
   "cell_type": "markdown",
   "metadata": {},
   "source": [
    "#### `get_centre_of_mass`"
   ]
  },
  {
   "cell_type": "markdown",
   "metadata": {},
   "source": [
    "We can show the center of mass (COM) based on the RSS fibre positions:"
   ]
  },
  {
   "cell_type": "code",
   "execution_count": null,
   "metadata": {},
   "outputs": [],
   "source": [
    "rss_sample.get_centre_of_mass()"
   ]
  },
  {
   "cell_type": "markdown",
   "metadata": {},
   "source": [
    "The first and second lists contain ra and dec coordinates, respectively."
   ]
  },
  {
   "cell_type": "markdown",
   "metadata": {},
   "source": [
    "#### `update_coordinates`"
   ]
  },
  {
   "cell_type": "markdown",
   "metadata": {},
   "source": [
    "We can modify the fibres' coordinates with this method. First, let's check the original coordinates:"
   ]
  },
  {
   "cell_type": "code",
   "execution_count": null,
   "metadata": {},
   "outputs": [],
   "source": [
    "original_ra, original_dec = rss_sample.info[\"fib_ra\"], rss_sample.info[\"fib_dec\"]\n",
    "print(f'Original RA fibres coordinates: {original_ra[:10]}')\n",
    "print('\\n================================\\n')\n",
    "print(f'Original DEC fibres coordinates: {original_dec[:10]}')"
   ]
  },
  {
   "cell_type": "markdown",
   "metadata": {},
   "source": [
    "\n",
    "Now we use `update_coordinates`:"
   ]
  },
  {
   "cell_type": "code",
   "execution_count": null,
   "metadata": {},
   "outputs": [],
   "source": [
    "rss_sample.update_coordinates(new_coords=(2*original_ra,2*original_dec))"
   ]
  },
  {
   "cell_type": "code",
   "execution_count": null,
   "metadata": {},
   "outputs": [],
   "source": [
    "print(f'Updated RA fibres coordinates: {rss_sample.info[\"fib_ra\"][:10]}')\n",
    "print('\\n================================\\n')\n",
    "print(f'Updated DEC fibres coordinates: {rss_sample.info[\"fib_dec\"][:10]}')"
   ]
  },
  {
   "cell_type": "markdown",
   "metadata": {},
   "source": [
    "#### `get_integrated_fibres`"
   ]
  },
  {
   "cell_type": "markdown",
   "metadata": {},
   "source": [
    "We compute the integrated intensity of the RSS fibres with this method:"
   ]
  },
  {
   "cell_type": "code",
   "execution_count": null,
   "metadata": {},
   "outputs": [],
   "source": [
    "rss_sample.get_integrated_fibres()"
   ]
  },
  {
   "cell_type": "markdown",
   "metadata": {},
   "source": [
    "We can also constraint the calculation in a specific wavelength."
   ]
  },
  {
   "cell_type": "code",
   "execution_count": null,
   "metadata": {},
   "outputs": [],
   "source": [
    "rss_sample.wavelength"
   ]
  },
  {
   "cell_type": "markdown",
   "metadata": {},
   "source": [
    "Now we select the wavelenght range. **Make sure to use astropy quantities and not simple float values.** \n",
    "\n",
    "In this case we will use the same elements of the RSS wavelengh data to define the range."
   ]
  },
  {
   "cell_type": "code",
   "execution_count": null,
   "metadata": {},
   "outputs": [],
   "source": [
    "rss_sample.get_integrated_fibres(wavelength_range=[6000,7000])"
   ]
  },
  {
   "cell_type": "markdown",
   "metadata": {},
   "source": [
    "#### `to_fits`"
   ]
  },
  {
   "cell_type": "markdown",
   "metadata": {},
   "source": [
    "We can write the RSS into a FITS file with this method.  "
   ]
  },
  {
   "cell_type": "code",
   "execution_count": null,
   "metadata": {},
   "outputs": [],
   "source": [
    "path_output = './output/'\n",
    "fits_file_path = path_output + 'rss_sample.fits'\n",
    "rss_sample.to_fits(filename=fits_file_path,overwrite=True)"
   ]
  },
  {
   "cell_type": "markdown",
   "metadata": {},
   "source": [
    "Notice that the format of the FITS file is different from the original."
   ]
  },
  {
   "cell_type": "markdown",
   "metadata": {},
   "source": [
    "#### `from_fits` "
   ]
  },
  {
   "cell_type": "markdown",
   "metadata": {},
   "source": [
    "This FITS format can be read with this method:"
   ]
  },
  {
   "cell_type": "code",
   "execution_count": null,
   "metadata": {},
   "outputs": [],
   "source": [
    "new_rss_sample = RSS.from_fits(filename=fits_file_path)"
   ]
  },
  {
   "cell_type": "markdown",
   "metadata": {},
   "source": [
    "Note that we call this method from the RSS class, as oposed as from the object like the previous methods shown here.\n",
    "\n",
    "The new object has the same properties as `rss_sample`:"
   ]
  },
  {
   "cell_type": "code",
   "execution_count": null,
   "metadata": {},
   "outputs": [],
   "source": [
    "new_rss_sample.info"
   ]
  },
  {
   "cell_type": "code",
   "execution_count": null,
   "metadata": {},
   "outputs": [],
   "source": [
    "comparing_intensity_values = np.array_equal(new_rss_sample.intensity,rss_sample.intensity,equal_nan=True)\n",
    "comparing_variance_values = np.array_equal(new_rss_sample.variance,rss_sample.variance,equal_nan=True)\n",
    "print(f\"Comparing intensity values: {comparing_intensity_values}\")\n",
    "print(f\"Comparing variance values: {comparing_variance_values}\")"
   ]
  },
  {
   "cell_type": "markdown",
   "metadata": {},
   "source": [
    "### Plotting methods"
   ]
  },
  {
   "cell_type": "markdown",
   "metadata": {},
   "source": [
    "We can directly do RSS related plots with the following methods  "
   ]
  },
  {
   "cell_type": "markdown",
   "metadata": {},
   "source": [
    "#### `plot_rss_image`"
   ]
  },
  {
   "cell_type": "markdown",
   "metadata": {},
   "source": [
    "Plot of basic RSS properties:"
   ]
  },
  {
   "cell_type": "code",
   "execution_count": null,
   "metadata": {},
   "outputs": [],
   "source": [
    "rss_sample.plot_rss_image()\n",
    "plt.show()"
   ]
  },
  {
   "cell_type": "markdown",
   "metadata": {},
   "source": [
    "Custom version:"
   ]
  },
  {
   "cell_type": "code",
   "execution_count": null,
   "metadata": {},
   "outputs": [],
   "source": [
    "\n",
    "plot_file_path = path_output + '/custom_plot_rss_image.png'\n",
    "rss_sample.plot_rss_image(data=rss_sample.variance.value, data_label='Variance',fibre_range=(100,300),\n",
    "                            wavelength_range=(6000,7000),output_filename=plot_file_path)\n",
    "plt.show()"
   ]
  },
  {
   "cell_type": "markdown",
   "metadata": {},
   "source": [
    "#### `plot_mask`"
   ]
  },
  {
   "cell_type": "markdown",
   "metadata": {},
   "source": [
    "This method creates a plot of the bitmask data:"
   ]
  },
  {
   "cell_type": "code",
   "execution_count": null,
   "metadata": {},
   "outputs": [],
   "source": [
    "rss_sample.plot_mask()\n",
    "plt.plot()"
   ]
  },
  {
   "cell_type": "markdown",
   "metadata": {},
   "source": [
    "#### `plot_fibres`"
   ]
  },
  {
   "cell_type": "markdown",
   "metadata": {},
   "source": [
    "This methods plots a fibre map image, showing the spatial distribution of data across fibres."
   ]
  },
  {
   "cell_type": "code",
   "execution_count": null,
   "metadata": {},
   "outputs": [],
   "source": [
    "rss_sample.plot_fibres()\n",
    "plt.show()"
   ]
  }
 ],
 "metadata": {
  "kernelspec": {
   "display_name": "venv_koala",
   "language": "python",
   "name": "python3"
  },
  "language_info": {
   "codemirror_mode": {
    "name": "ipython",
    "version": 3
   },
   "file_extension": ".py",
   "mimetype": "text/x-python",
   "name": "python",
   "nbconvert_exporter": "python",
   "pygments_lexer": "ipython3",
   "version": "3.10.12"
  }
 },
 "nbformat": 4,
 "nbformat_minor": 2
}
